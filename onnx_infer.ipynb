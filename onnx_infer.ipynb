{
 "cells": [
  {
   "cell_type": "code",
   "execution_count": 71,
   "metadata": {},
   "outputs": [],
   "source": [
    "import numpy as np\n",
    "from tqdm import tqdm\n",
    "from scipy.special import softmax\n",
    "from onnxruntime import GraphOptimizationLevel, InferenceSession, SessionOptions, get_all_providers\n",
    "from gpt2_tokenizer import GPT2Tokenizer"
   ]
  },
  {
   "cell_type": "code",
   "execution_count": 73,
   "metadata": {},
   "outputs": [],
   "source": [
    "def create_model_for_provider(model_path: str, provider: str= 'CPUExecutionProvider') -> InferenceSession:\n",
    "    assert provider in get_all_providers(), f\"provider {provider} not found, {get_all_providers()}\"\n",
    "    # Few properties that might have an impact on performances (provided by MS)\n",
    "    options = SessionOptions()\n",
    "    options.intra_op_num_threads = 4\n",
    "    options.graph_optimization_level = GraphOptimizationLevel.ORT_ENABLE_ALL\n",
    "    # Load the model as a graph and prepare the CPU backend\n",
    "    session = InferenceSession(model_path, options, providers=[provider])\n",
    "    session.disable_fallback()\n",
    "    return session"
   ]
  },
  {
   "cell_type": "code",
   "execution_count": 74,
   "metadata": {},
   "outputs": [],
   "source": [
    "cpm = create_model_for_provider('./onnx_q/cpm.onnx')\n",
    "tokenizer = GPT2Tokenizer(\n",
    "    'CPM-Generate/bpe_3w_new/vocab.json',\n",
    "    'CPM-Generate/bpe_3w_new/merges.txt',\n",
    "    model_file='CPM-Generate/bpe_3w_new/chinese_vocab.model')"
   ]
  },
  {
   "cell_type": "code",
   "execution_count": 94,
   "metadata": {},
   "outputs": [
    {
     "name": "stderr",
     "output_type": "stream",
     "text": [
      "100%|██████████| 50/50 [00:11<00:00,  4.25it/s]"
     ]
    },
    {
     "name": "stdout",
     "output_type": "stream",
     "text": [
      "励志金句:\n",
      "我想到一句英语中的俗语来形容我和我的朋友的友谊(我们都是学英语的孩子所以用这个来形容对于学英语的孩子来说是再合适不过了吧hahiahia\n"
     ]
    },
    {
     "name": "stderr",
     "output_type": "stream",
     "text": [
      "\n"
     ]
    }
   ],
   "source": [
    "# ids = tokenizer.encode('上联：天下太平\\n下联：')\n",
    "\n",
    "ids = tokenizer.encode('励志金句：\\n')\n",
    "max_len = 50\n",
    "temperature = 1.0\n",
    "top_p = 0.95\n",
    "top_k = 50\n",
    "ban = [\n",
    "    8,  # 一个空白字符\n",
    "]\n",
    "\n",
    "for i in tqdm(range(max_len)):\n",
    "    logits = cpm.run(None, {\n",
    "        \"input_ids\": np.array([ids], dtype=np.int32)\n",
    "    })[0]\n",
    "    \n",
    "    for x in ban:\n",
    "        logits[:, -1, x] = -9999\n",
    "    \n",
    "    logits = logits / temperature\n",
    "    scores = softmax(logits[:, -1, :])\n",
    "    next_probs = np.sort(scores)[:, ::-1]\n",
    "    if top_p > 0.0 and top_p < 1.0:\n",
    "        next_probs = next_probs[:, :int(next_probs.shape[1] * (1 - top_p))]\n",
    "    if top_k > 0 and top_k < next_probs.shape[1]:\n",
    "        next_probs = next_probs[:, :top_k]\n",
    "    next_probs_1 = next_probs / next_probs.sum(axis=1).reshape((-1, 1))\n",
    "\n",
    "    next_tokens = np.argsort(scores)[:, ::-1]\n",
    "    if top_p > 0.0 and top_p < 1.0:\n",
    "        next_tokens = next_tokens[:, :int(next_tokens.shape[1] * (1 - top_p))]\n",
    "    if top_k > 0 and top_k < next_tokens.shape[1]:\n",
    "        next_tokens = next_tokens[:, :top_k]\n",
    "\n",
    "    next_token = np.random.choice(next_tokens[0], p=next_probs_1[0])\n",
    "    if tokenizer.eod_id == next_token:\n",
    "        break\n",
    "    ids.append(next_token)\n",
    "print(tokenizer.decode(ids).replace(' ', ''))"
   ]
  },
  {
   "cell_type": "code",
   "execution_count": null,
   "metadata": {},
   "outputs": [],
   "source": []
  }
 ],
 "metadata": {
  "kernelspec": {
   "display_name": "Python 3",
   "language": "python",
   "name": "python3"
  },
  "language_info": {
   "codemirror_mode": {
    "name": "ipython",
    "version": 3
   },
   "file_extension": ".py",
   "mimetype": "text/x-python",
   "name": "python",
   "nbconvert_exporter": "python",
   "pygments_lexer": "ipython3",
   "version": "3.8.3"
  }
 },
 "nbformat": 4,
 "nbformat_minor": 4
}
