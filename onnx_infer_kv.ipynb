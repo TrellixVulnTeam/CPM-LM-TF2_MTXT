{
 "cells": [
  {
   "cell_type": "code",
   "execution_count": 1,
   "metadata": {},
   "outputs": [],
   "source": [
    "import numpy as np\n",
    "from tqdm import tqdm\n",
    "from scipy.special import softmax\n",
    "from onnxruntime import GraphOptimizationLevel, InferenceSession, SessionOptions, get_all_providers\n",
    "from gpt2_tokenizer import GPT2Tokenizer"
   ]
  },
  {
   "cell_type": "code",
   "execution_count": 2,
   "metadata": {},
   "outputs": [],
   "source": [
    "def create_model_for_provider(model_path: str, provider: str= 'CPUExecutionProvider') -> InferenceSession:\n",
    "    assert provider in get_all_providers(), f\"provider {provider} not found, {get_all_providers()}\"\n",
    "    # Few properties that might have an impact on performances (provided by MS)\n",
    "    options = SessionOptions()\n",
    "    options.intra_op_num_threads = 4\n",
    "    options.graph_optimization_level = GraphOptimizationLevel.ORT_ENABLE_ALL\n",
    "    # Load the model as a graph and prepare the CPU backend\n",
    "    session = InferenceSession(model_path, options, providers=[provider])\n",
    "    session.disable_fallback()\n",
    "    return session"
   ]
  },
  {
   "cell_type": "code",
   "execution_count": 3,
   "metadata": {},
   "outputs": [],
   "source": [
    "tokenizer = GPT2Tokenizer(\n",
    "    'CPM-Generate/bpe_3w_new/vocab.json',\n",
    "    'CPM-Generate/bpe_3w_new/merges.txt',\n",
    "    model_file='CPM-Generate/bpe_3w_new/chinese_vocab.model')"
   ]
  },
  {
   "cell_type": "code",
   "execution_count": 4,
   "metadata": {},
   "outputs": [],
   "source": [
    "cpm = create_model_for_provider('./onnx_q/cpm.onnx')"
   ]
  },
  {
   "cell_type": "code",
   "execution_count": 5,
   "metadata": {},
   "outputs": [],
   "source": [
    "cpm_kv = create_model_for_provider('./onnx_kv_q/cpm.onnx')"
   ]
  },
  {
   "cell_type": "code",
   "execution_count": 6,
   "metadata": {},
   "outputs": [
    {
     "name": "stdout",
     "output_type": "stream",
     "text": [
      "done\n"
     ]
    }
   ],
   "source": [
    "print('done')"
   ]
  },
  {
   "cell_type": "code",
   "execution_count": 42,
   "metadata": {},
   "outputs": [
    {
     "name": "stdout",
     "output_type": "stream",
     "text": [
      "201 , 我 是 个 很 好 的 人 , 我 也 很 喜欢 你 , 但是 我 不想 和 你 在 一起 , 我 想 和 你 做 朋友 , 我 想 和 你 做 朋友 , 我 想 和 你 做 朋友 , 我 想 和 你 做 朋友 , 我 想 和 你 做 朋友 , 我 想 和 你 做 朋友 , 我 想 和 你 做 朋友 , 我 想 和 你 做 朋友 , 我 想 和 你 做 朋友 , 我 想 和 你 做 朋友 , 我 想 和 你 做 朋友 , 我 想 和 你 做 朋友 , 我 想 和 你 做 朋友 , 我 想 和 你 做 朋友 , 我 想 和 你 做 朋友 , 我 想 和 你 做 朋友 , 我 想 和 你 做 朋友 , 我 想 和 你 做 朋友 , 我 想 和 你 做 朋友 , 我 想 和 你 做 朋友 , 我 想 和 你 做 朋友 , 我\n",
      "CPU times: user 1min 32s, sys: 4.38 s, total: 1min 36s\n",
      "Wall time: 25.3 s\n"
     ]
    }
   ],
   "source": [
    "%%time\n",
    "ids = tokenizer.encode('你好')\n",
    "\n",
    "input_ids = np.array([ids], dtype=np.int64)\n",
    "\n",
    "logits, new_kv = cpm.run(None, {\n",
    "    \"input_ids\": input_ids,\n",
    "})\n",
    "kv_cache = new_kv\n",
    "\n",
    "next_token = logits[0, -1, :].argmax()\n",
    "\n",
    "outputs = [next_token]\n",
    "for i in range(200):\n",
    "    input_ids = np.array([[next_token]], dtype=np.int64)\n",
    "    logits, new_kv = cpm_kv.run(None, {\n",
    "        \"input_ids\": np.array([[next_token]], dtype=np.int64),\n",
    "        'kv_cache': kv_cache,\n",
    "    })\n",
    "    next_token = logits[0, -1, :].argmax()\n",
    "    kv_cache = np.concatenate([kv_cache, new_kv], axis=-2)\n",
    "    # kv_cache = kv_cache[:, :, :, :, -50:, :]\n",
    "    outputs.append(next_token)\n",
    "print(len(outputs), tokenizer.decode(outputs))"
   ]
  },
  {
   "cell_type": "code",
   "execution_count": 44,
   "metadata": {},
   "outputs": [],
   "source": [
    "# %%time\n",
    "# ids = tokenizer.encode('你好')\n",
    "\n",
    "# input_ids = np.array([ids], dtype=np.int64)\n",
    "\n",
    "# logits, new_kv = cpm.run(None, {\n",
    "#     \"input_ids\": input_ids,\n",
    "# })\n",
    "# kv_cache = new_kv\n",
    "\n",
    "# next_token = logits[0, -1, :].argmax()\n",
    "\n",
    "# outputs = [next_token]\n",
    "# for i in range(200):\n",
    "#     input_ids = np.array([[next_token]], dtype=np.int64)\n",
    "#     logits, new_kv = cpm_kv.run(None, {\n",
    "#         \"input_ids\": np.array([[next_token]], dtype=np.int64),\n",
    "#         'kv_cache': kv_cache,\n",
    "#     })\n",
    "#     next_token = logits[0, -1, :].argmax()\n",
    "#     kv_cache = np.concatenate([kv_cache, new_kv], axis=-2)\n",
    "#     kv_cache = kv_cache[:, :, :, :, -50:, :]\n",
    "#     outputs.append(next_token)\n",
    "# print(len(outputs), tokenizer.decode(outputs))"
   ]
  },
  {
   "cell_type": "code",
   "execution_count": 35,
   "metadata": {},
   "outputs": [],
   "source": [
    "# %%time\n",
    "# ids = tokenizer.encode('你好')\n",
    "\n",
    "# outputs = []\n",
    "# for i in range(200):\n",
    "#     input_ids = np.array([ids], dtype=np.int64)\n",
    "#     logits = cpm.run([cpm.get_outputs()[0].name], {\n",
    "#         \"input_ids\": input_ids,\n",
    "#     })[0]\n",
    "#     next_token = logits[0, -1, :].argmax()\n",
    "#     ids.append(next_token)\n",
    "#     outputs.append(next_token)\n",
    "# print(len(outputs), tokenizer.decode(outputs))"
   ]
  },
  {
   "cell_type": "code",
   "execution_count": null,
   "metadata": {},
   "outputs": [],
   "source": []
  },
  {
   "cell_type": "code",
   "execution_count": 55,
   "metadata": {},
   "outputs": [],
   "source": [
    "# ids = tokenizer.encode('上联：天下太平\\n下联：')\n",
    "\n",
    "def generate(\n",
    "    text,\n",
    "    max_len = 100,\n",
    "    temperature = 1.0,\n",
    "    top_p = 0.95,\n",
    "    top_k = 50,\n",
    "    eod=tokenizer.eod_id,\n",
    "    ban = [\n",
    "        8,  # 一个空白字符\n",
    "    ]):\n",
    "\n",
    "    ids = tokenizer.encode(text)\n",
    "\n",
    "    kv_cache = None\n",
    "\n",
    "    for i in range(max_len):\n",
    "\n",
    "        if i == 0:\n",
    "            logits, kv_cache = cpm.run(None, {\n",
    "                \"input_ids\": np.array([ids], dtype=np.int64)\n",
    "            })\n",
    "        else:\n",
    "            logits, new_kv = cpm_kv.run(None, {\n",
    "                \"input_ids\": np.array([[next_token]], dtype=np.int64),\n",
    "                'kv_cache': kv_cache,\n",
    "            })\n",
    "            kv_cache = np.concatenate([kv_cache, new_kv], axis=-2)\n",
    "\n",
    "        for x in ban:\n",
    "            logits[:, -1, x] = -9999\n",
    "\n",
    "        logits = logits / temperature\n",
    "        scores = softmax(logits[:, -1, :])\n",
    "        next_probs = np.sort(scores)[:, ::-1]\n",
    "        if top_p > 0.0 and top_p < 1.0:\n",
    "            next_probs = next_probs[:, :int(next_probs.shape[1] * (1 - top_p))]\n",
    "        if top_k > 0 and top_k < next_probs.shape[1]:\n",
    "            next_probs = next_probs[:, :top_k]\n",
    "        next_probs_1 = next_probs / next_probs.sum(axis=1).reshape((-1, 1))\n",
    "\n",
    "        next_tokens = np.argsort(scores)[:, ::-1]\n",
    "        if top_p > 0.0 and top_p < 1.0:\n",
    "            next_tokens = next_tokens[:, :int(next_tokens.shape[1] * (1 - top_p))]\n",
    "        if top_k > 0 and top_k < next_tokens.shape[1]:\n",
    "            next_tokens = next_tokens[:, :top_k]\n",
    "\n",
    "        next_token = np.random.choice(next_tokens[0], p=next_probs_1[0])\n",
    "        if eod is not None:\n",
    "            if eod == next_token:\n",
    "                break\n",
    "        ids.append(next_token)\n",
    "    return tokenizer.decode(ids).replace(' ', '')"
   ]
  },
  {
   "cell_type": "code",
   "execution_count": 57,
   "metadata": {},
   "outputs": [
    {
     "data": {
      "text/plain": [
       "'天下是否太平,取决于他们的个人能力与责任感的高低!'"
      ]
     },
     "execution_count": 57,
     "metadata": {},
     "output_type": "execute_result"
    }
   ],
   "source": [
    "generate('天下是否太平，取决于')"
   ]
  },
  {
   "cell_type": "code",
   "execution_count": 61,
   "metadata": {},
   "outputs": [
    {
     "data": {
      "text/plain": [
       "'我是一个孤寡老人,我的儿子和孙子都不在我身边了!我知道他们很想念我!我知道他们很爱我!我也只有老伴了!不知道我还有其他没出世的孩子吗?都多大啦?什么时候来接我一下呀?等着我给你们带礼物呢?'"
      ]
     },
     "execution_count": 61,
     "metadata": {},
     "output_type": "execute_result"
    }
   ],
   "source": [
    "generate('我是一个孤寡老人，我')"
   ]
  },
  {
   "cell_type": "code",
   "execution_count": null,
   "metadata": {},
   "outputs": [],
   "source": []
  }
 ],
 "metadata": {
  "kernelspec": {
   "display_name": "Python 3",
   "language": "python",
   "name": "python3"
  },
  "language_info": {
   "codemirror_mode": {
    "name": "ipython",
    "version": 3
   },
   "file_extension": ".py",
   "mimetype": "text/x-python",
   "name": "python",
   "nbconvert_exporter": "python",
   "pygments_lexer": "ipython3",
   "version": "3.8.3"
  }
 },
 "nbformat": 4,
 "nbformat_minor": 4
}
